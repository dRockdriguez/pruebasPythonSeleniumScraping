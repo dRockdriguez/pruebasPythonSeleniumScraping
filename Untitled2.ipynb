{
 "cells": [
  {
   "cell_type": "code",
   "execution_count": 95,
   "metadata": {},
   "outputs": [],
   "source": [
    "from selenium import webdriver\n",
    "from selenium.webdriver.chrome.options import Options\n",
    "import time\n",
    "from selenium.webdriver.common.by import By\n",
    "from selenium.webdriver.support.ui import WebDriverWait\n",
    "from selenium.webdriver.support import expected_conditions as EC\n",
    "from bs4 import BeautifulSoup\n",
    "from urllib.request import urlopen\n",
    "from urllib.error import HTTPError\n",
    "from urllib.error import URLError"
   ]
  },
  {
   "cell_type": "code",
   "execution_count": 96,
   "metadata": {},
   "outputs": [],
   "source": [
    "options = Options() \n",
    "\n",
    "options.add_experimental_option(\"prefs\", {})\n",
    "#options.add_argument(\"--headless\") ## Abrirlo en modo fantasma\n",
    "driver = webdriver.Chrome(options=options, executable_path=r\"C:\\chromeDriver\\chromedriver.exe\")"
   ]
  },
  {
   "cell_type": "code",
   "execution_count": 97,
   "metadata": {},
   "outputs": [],
   "source": [
    "def listaProductos(productos):\n",
    "    for producto in productos:\n",
    "        titulo = producto.find_all(\"h2\", { \"class\" : \"titular-producto\"})\n",
    "        precio = producto.find_all(\"p\", { \"class\": \"precio-nuevo\"})\n",
    "        precioAnt = producto.find_all(\"del\", { \"class\": \"precio-anterior\"})\n",
    "        if len(precioAnt) > 0:\n",
    "            print(titulo[0].getText() + \" cuestan: \" + precio[0].getText() + \" y antes costaban: \" + precioAnt[0].getText())\n",
    "        else:\n",
    "            print(titulo[0].getText() + \" cuestan: \" + precio[0].getText())"
   ]
  },
  {
   "cell_type": "code",
   "execution_count": 98,
   "metadata": {},
   "outputs": [
    {
     "name": "stdout",
     "output_type": "stream",
     "text": [
      "Chanclas unisex TEX (Tallas 31 a 39) cuestan: 2  € y antes costaban: 6,99 €\n",
      "Chanclas estampadas TEX cuestan: 2  € y antes costaban: 4,99 €\n",
      "Chanclas con flor TEX cuestan: 1  € y antes costaban: 4,99 €\n",
      "Chanclas estampadas TEX cuestan: 3  € y antes costaban: 6,99 €\n",
      "Chanclas estampadas TEX cuestan: 3  € y antes costaban: 6,99 €\n",
      "Chanclas TEX cuestan: 4  € y antes costaban: 4,99 €\n",
      "Chanclas estampadas TEX cuestan: 3  € y antes costaban: 6,99 €\n",
      "Chanclas estampadas TEX cuestan: 3  € y antes costaban: 6,99 €\n",
      "Chanclas de cuña con abalorios TEX cuestan: 4  € y antes costaban: 9,99 €\n",
      "Chanclas textiles TEX cuestan: 4  € y antes costaban: 9,99 €\n",
      "Chanclas TEX cuestan: 1  € y antes costaban: 1,50 €\n",
      "Chanclas degradado TEX cuestan: 2  € y antes costaban: 6,99 €\n",
      "Chanclas grabado 3D TEX cuestan: 3  € y antes costaban: 6,99 €\n",
      "Chanclas estampadas TEX cuestan: 2  € y antes costaban: 6,99 €\n",
      "Chanclas TEX cuestan: 3  € y antes costaban: 6,99 €\n",
      "Chanclas TEX cuestan: 5  € y antes costaban: 9,99 €\n",
      "Chanclas con cristalitos TEX cuestan: 2  € y antes costaban: 6,99 €\n",
      "Chanclas TEX cuestan: 4  € y antes costaban: 4,99 €\n",
      "Chanclas de cuña con abalorios TEX cuestan: 4  € y antes costaban: 9,99 €\n",
      "Zuecos de agua cuestan: 2  € y antes costaban: 6,99 €\n",
      "Chanclas TEX cuestan: 1  € y antes costaban: 1,50 €\n"
     ]
    },
    {
     "ename": "TypeError",
     "evalue": "'NoneType' object is not callable",
     "output_type": "error",
     "traceback": [
      "\u001b[1;31m---------------------------------------------------------------------------\u001b[0m",
      "\u001b[1;31mTypeError\u001b[0m                                 Traceback (most recent call last)",
      "\u001b[1;32m<ipython-input-98-04ae9cb9413f>\u001b[0m in \u001b[0;36m<module>\u001b[1;34m\u001b[0m\n\u001b[0;32m     18\u001b[0m         \u001b[1;32melse\u001b[0m\u001b[1;33m:\u001b[0m\u001b[1;33m\u001b[0m\u001b[1;33m\u001b[0m\u001b[0m\n\u001b[0;32m     19\u001b[0m             \u001b[0mpage\u001b[0m \u001b[1;33m=\u001b[0m \u001b[0mBeautifulSoup\u001b[0m\u001b[1;33m(\u001b[0m\u001b[0mdriver\u001b[0m\u001b[1;33m.\u001b[0m\u001b[0mpage_source\u001b[0m\u001b[1;33m,\u001b[0m\u001b[1;34m\"html5lib\"\u001b[0m\u001b[1;33m)\u001b[0m\u001b[1;33m\u001b[0m\u001b[1;33m\u001b[0m\u001b[0m\n\u001b[1;32m---> 20\u001b[1;33m             \u001b[0ma\u001b[0m \u001b[1;33m=\u001b[0m \u001b[0mpage\u001b[0m\u001b[1;33m.\u001b[0m\u001b[0mfind_element_by_tag_name\u001b[0m\u001b[1;33m(\u001b[0m\u001b[1;34m\"a\"\u001b[0m\u001b[1;33m)\u001b[0m\u001b[1;33m\u001b[0m\u001b[1;33m\u001b[0m\u001b[0m\n\u001b[0m\u001b[0;32m     21\u001b[0m             \u001b[1;31m#driver.execute_script(\"arguments[0].click();\", a)\u001b[0m\u001b[1;33m\u001b[0m\u001b[1;33m\u001b[0m\u001b[1;33m\u001b[0m\u001b[0m\n\u001b[0;32m     22\u001b[0m             \u001b[1;31m#counter = counter + 1\u001b[0m\u001b[1;33m\u001b[0m\u001b[1;33m\u001b[0m\u001b[1;33m\u001b[0m\u001b[0m\n",
      "\u001b[1;31mTypeError\u001b[0m: 'NoneType' object is not callable"
     ]
    }
   ],
   "source": [
    "driver.get(\"https://www.carrefour.es\")\n",
    "driver.find_element_by_id(\"atg_store_searchInput\").send_keys(\"chanclas\");\n",
    "driver.find_element_by_id(\"searchForm\").submit();\n",
    "try:\n",
    "    element = WebDriverWait(driver, 10).until(EC.url_changes(\"https://www.carrefour.es/global/?Dy=1&Nty=1&Ntx=mode+matchallany&Ntt=chanclas&search=Buscar\"))\n",
    "finally:\n",
    "    counter = 1\n",
    "    ## Cojo la primera página\n",
    "    page = BeautifulSoup(driver.page_source,\"html5lib\")\n",
    "    pages = driver.find_element_by_class_name(\"pagination\")\n",
    "    for counter in range(1, 5):\n",
    "        p = driver.find_element_by_class_name(\"pagination\")\n",
    "        lis = p.find_elements_by_tag_name(\"li\")\n",
    "        if counter == 1:\n",
    "            productos = page.findAll(\"div\", {\"class\": \"producto\"})\n",
    "            listaProductos(productos)\n",
    "            counter = counter + 1\n",
    "        else:\n",
    "            page = BeautifulSoup(driver.page_source,\"html5lib\")\n",
    "            pages = driver.find_element_by_class_name(\"pagination\")\n",
    "            a = page.find_element_by_tag_name(\"a\")\n",
    "            lis = p.find_elements_by_tag_name(\"li\")\n",
    "            #driver.execute_script(\"arguments[0].click();\", a)\n",
    "            #counter = counter + 1"
   ]
  },
  {
   "cell_type": "code",
   "execution_count": null,
   "metadata": {},
   "outputs": [],
   "source": []
  }
 ],
 "metadata": {
  "kernelspec": {
   "display_name": "Python 3",
   "language": "python",
   "name": "python3"
  },
  "language_info": {
   "codemirror_mode": {
    "name": "ipython",
    "version": 3
   },
   "file_extension": ".py",
   "mimetype": "text/x-python",
   "name": "python",
   "nbconvert_exporter": "python",
   "pygments_lexer": "ipython3",
   "version": "3.7.3"
  }
 },
 "nbformat": 4,
 "nbformat_minor": 2
}
