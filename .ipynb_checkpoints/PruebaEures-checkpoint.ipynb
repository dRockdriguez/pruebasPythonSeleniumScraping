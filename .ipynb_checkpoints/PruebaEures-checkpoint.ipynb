{
 "cells": [
  {
   "cell_type": "code",
   "execution_count": 35,
   "metadata": {},
   "outputs": [],
   "source": [
    "from selenium import webdriver\n",
    "from selenium.webdriver.chrome.options import Options\n",
    "import time\n",
    "from selenium.webdriver.common.by import By\n",
    "from selenium.webdriver.common.by import By\n",
    "from selenium.webdriver.support.ui import WebDriverWait\n",
    "from selenium.webdriver.support import expected_conditions as EC\n",
    "from bs4 import BeautifulSoup\n",
    "import numpy as np\n",
    "import pandas as pd\n",
    "import math"
   ]
  },
  {
   "cell_type": "code",
   "execution_count": 36,
   "metadata": {},
   "outputs": [],
   "source": [
    "options = Options() \n",
    "\n",
    "options.add_experimental_option(\"prefs\", {})\n",
    "# options.add_argument(\"--headless\") ## Abrirlo en modo fantasma\n",
    "driver = webdriver.Chrome(options=options, executable_path=r\"C:\\chromeDriver\\chromedriver.exe\")"
   ]
  },
  {
   "cell_type": "code",
   "execution_count": 37,
   "metadata": {},
   "outputs": [],
   "source": [
    "driver.get(\"https://ec.europa.eu/eures/eures-searchengine/page/main#/search\")"
   ]
  },
  {
   "cell_type": "markdown",
   "metadata": {},
   "source": [
    "## Selección de filtros"
   ]
  },
  {
   "cell_type": "code",
   "execution_count": 38,
   "metadata": {},
   "outputs": [],
   "source": [
    "def selFiltro(filtro, text):\n",
    "    if text == \"\":\n",
    "        expand = filtro.find_element_by_class_name(\"expand\")\n",
    "        expand_button = expand.find_element_by_class_name(\"expandFacet\")\n",
    "        expand_button.click()\n",
    "    els = filtro.find_elements_by_class_name(\"hover-color\")\n",
    "    for el in els:\n",
    "        if text != \"\" and el.text.find(text) >= 0:\n",
    "            driver.execute_script(\"arguments[0].click();\", el);\n",
    "            break\n",
    "        elif text == \"\":\n",
    "            ## Si viene blanco selecciono todos los visibles\n",
    "            driver.execute_script(\"arguments[0].click();\", el);\n",
    "    waitLoader()"
   ]
  },
  {
   "cell_type": "markdown",
   "metadata": {},
   "source": [
    "## Función de espera del loader"
   ]
  },
  {
   "cell_type": "code",
   "execution_count": 39,
   "metadata": {},
   "outputs": [],
   "source": [
    "def waitLoader():\n",
    "    ## Espero a que el loader desaparezca\n",
    "    time.sleep(1) ## Le meto 1 segundo de espera para que de tiempo a que el loader aparezca\n",
    "    WebDriverWait(driver, 10).until(EC.invisibility_of_element((By.ID, \"loader\")))"
   ]
  },
  {
   "cell_type": "markdown",
   "metadata": {},
   "source": [
    "## Clase para guardar los jobs"
   ]
  },
  {
   "cell_type": "code",
   "execution_count": 40,
   "metadata": {},
   "outputs": [],
   "source": [
    "class Job(object):\n",
    "    def __init__(self, titulo, lugaryfecha, categorias):\n",
    "        self.titulo = titulo\n",
    "        self.lugaryfecha = lugaryfecha\n",
    "        self.categorias = categorias"
   ]
  },
  {
   "cell_type": "code",
   "execution_count": 41,
   "metadata": {},
   "outputs": [
    {
     "name": "stdout",
     "output_type": "stream",
     "text": [
      "Se han encontrado 115 ofertas para los filtros seleccionados.\n",
      "Hay 12 paginas\n"
     ]
    }
   ],
   "source": [
    "try:\n",
    "    element = WebDriverWait(driver, 10).until(EC.presence_of_element_located((By.ID, \"facet-POSITION_LOCATION\")))\n",
    "finally:\n",
    "    time.sleep(5)\n",
    "    filtros = driver.find_elements_by_class_name(\"m1-level-0\")\n",
    "    \n",
    "    ## Selecciono el país\n",
    "    selFiltro(filtros[0], \"Germany\")\n",
    "    ## Selecciono el filtro EURES flag\n",
    "    selFiltro(filtros[1], \"Without\")\n",
    "    ## Selecciono el filtro tipo de contrato\n",
    "    selFiltro(filtros[2], \"Full-time\")\n",
    "    ## Selecciono el filtro de nivel de educación\n",
    "    selFiltro(filtros[3], \"Upper secondary\")\n",
    "    ## Selecciono el filtro de posicion\n",
    "    selFiltro(filtros[4], \"Contract\")\n",
    "    ## Selecciono el filtro de experiencia\n",
    "    selFiltro(filtros[5], \"Not\")\n",
    "\n",
    "    ## Saco el número de trabajos que existen para esos filtros\n",
    "    jobs_resume = driver.find_element_by_class_name(\"small-content\")\n",
    "    vacances = jobs_resume.find_element_by_class_name(\"ng-binding\")\n",
    "    n_vacances = vacances.text.split(\" \")[0];\n",
    "    n_vacances = n_vacances.replace(\",\", \"\")\n",
    "    print(\"Se han encontrado \" + n_vacances + \" ofertas para los filtros seleccionados.\")\n",
    "    \n",
    "    n_pages = int(n_vacances) / 10\n",
    "    print(\"Hay \" + str(math.ceil(n_pages)) + \" paginas\")"
   ]
  },
  {
   "cell_type": "markdown",
   "metadata": {},
   "source": [
    "## Pasar de página y obtener los datos de cada una de las ofertas existentes"
   ]
  },
  {
   "cell_type": "code",
   "execution_count": 42,
   "metadata": {
    "scrolled": false
   },
   "outputs": [],
   "source": [
    "    cont_pages = 1\n",
    "    c = pd.DataFrame(columns=['titulo', 'lugaryfecha', 'categorias'])\n",
    "    cols = list(c)\n",
    "    jobsArr = []\n",
    "    while cont_pages < math.ceil(n_pages):\n",
    "        cont_pages = cont_pages + 1\n",
    "        jobs_resume = driver.find_element_by_class_name(\"small-content\")\n",
    "        jobs = driver.find_elements_by_class_name(\"job-container\")\n",
    "        for job in jobs:                \n",
    "            title = job.find_element_by_tag_name(\"jv-title\");\n",
    "            place_date = job.find_elements_by_tag_name(\"div\")[1]\n",
    "            categories = job.find_element_by_id(\"jobCategoriesCodes\")\n",
    "            jobsArr.append(Job(title.text, place_date.text, categories.text))\n",
    "        next_page = jobs_resume.find_element_by_class_name(\"next\")\n",
    "        time.sleep(5)\n",
    "        next_page.click()\n",
    "        waitLoader()\n",
    "\n",
    "    dataframe = pd.DataFrame([[getattr(i,j) for j in cols] for i in jobsArr], columns = cols)"
   ]
  },
  {
   "cell_type": "code",
   "execution_count": 43,
   "metadata": {},
   "outputs": [
    {
     "data": {
      "text/html": [
       "<div>\n",
       "<style scoped>\n",
       "    .dataframe tbody tr th:only-of-type {\n",
       "        vertical-align: middle;\n",
       "    }\n",
       "\n",
       "    .dataframe tbody tr th {\n",
       "        vertical-align: top;\n",
       "    }\n",
       "\n",
       "    .dataframe thead th {\n",
       "        text-align: right;\n",
       "    }\n",
       "</style>\n",
       "<table border=\"1\" class=\"dataframe\">\n",
       "  <thead>\n",
       "    <tr style=\"text-align: right;\">\n",
       "      <th></th>\n",
       "      <th>titulo</th>\n",
       "      <th>lugaryfecha</th>\n",
       "      <th>categorias</th>\n",
       "    </tr>\n",
       "  </thead>\n",
       "  <tbody>\n",
       "    <tr>\n",
       "      <th>0</th>\n",
       "      <td>MONTER/MONTERKA INDUSTRIJSKIH STROJEVA</td>\n",
       "      <td>Germany (DE) 1 day(s) ago (17/10/2019)</td>\n",
       "      <td>Category: Toolmakers and related workers / Agr...</td>\n",
       "    </tr>\n",
       "    <tr>\n",
       "      <th>1</th>\n",
       "      <td>TIG ZAVARIVAČ/ZAVARIVAČICA</td>\n",
       "      <td>Germany (DE) 1 day(s) ago (17/10/2019)</td>\n",
       "      <td>Category: Welders and flamecutters</td>\n",
       "    </tr>\n",
       "    <tr>\n",
       "      <th>2</th>\n",
       "      <td>ZAVARIVAČ/ICA</td>\n",
       "      <td>Germany (DE) 1 day(s) ago (17/10/2019)</td>\n",
       "      <td>Category: Welders and flamecutters</td>\n",
       "    </tr>\n",
       "    <tr>\n",
       "      <th>3</th>\n",
       "      <td>KONOBAR/KONOBARICA</td>\n",
       "      <td>Germany (DE) 1 day(s) ago (17/10/2019)</td>\n",
       "      <td>Category: Waiters</td>\n",
       "    </tr>\n",
       "    <tr>\n",
       "      <th>4</th>\n",
       "      <td>ZAVARIVAČ/ICA - BRUSAČ/ICA</td>\n",
       "      <td>Germany (DE) 1 day(s) ago (17/10/2019)</td>\n",
       "      <td>Category: Welders and flamecutters / Metal wor...</td>\n",
       "    </tr>\n",
       "  </tbody>\n",
       "</table>\n",
       "</div>"
      ],
      "text/plain": [
       "                                   titulo  \\\n",
       "0  MONTER/MONTERKA INDUSTRIJSKIH STROJEVA   \n",
       "1              TIG ZAVARIVAČ/ZAVARIVAČICA   \n",
       "2                           ZAVARIVAČ/ICA   \n",
       "3                      KONOBAR/KONOBARICA   \n",
       "4              ZAVARIVAČ/ICA - BRUSAČ/ICA   \n",
       "\n",
       "                              lugaryfecha  \\\n",
       "0  Germany (DE) 1 day(s) ago (17/10/2019)   \n",
       "1  Germany (DE) 1 day(s) ago (17/10/2019)   \n",
       "2  Germany (DE) 1 day(s) ago (17/10/2019)   \n",
       "3  Germany (DE) 1 day(s) ago (17/10/2019)   \n",
       "4  Germany (DE) 1 day(s) ago (17/10/2019)   \n",
       "\n",
       "                                          categorias  \n",
       "0  Category: Toolmakers and related workers / Agr...  \n",
       "1                 Category: Welders and flamecutters  \n",
       "2                 Category: Welders and flamecutters  \n",
       "3                                  Category: Waiters  \n",
       "4  Category: Welders and flamecutters / Metal wor...  "
      ]
     },
     "execution_count": 43,
     "metadata": {},
     "output_type": "execute_result"
    }
   ],
   "source": [
    "dataframe.head()"
   ]
  },
  {
   "cell_type": "code",
   "execution_count": 44,
   "metadata": {},
   "outputs": [],
   "source": [
    "dataframe.to_csv(\"eures.csv\", sep=';')"
   ]
  },
  {
   "cell_type": "code",
   "execution_count": null,
   "metadata": {},
   "outputs": [],
   "source": []
  },
  {
   "cell_type": "code",
   "execution_count": null,
   "metadata": {},
   "outputs": [],
   "source": []
  },
  {
   "cell_type": "code",
   "execution_count": null,
   "metadata": {},
   "outputs": [],
   "source": [
    "        "
   ]
  },
  {
   "cell_type": "code",
   "execution_count": null,
   "metadata": {},
   "outputs": [],
   "source": []
  }
 ],
 "metadata": {
  "kernelspec": {
   "display_name": "Python 3",
   "language": "python",
   "name": "python3"
  },
  "language_info": {
   "codemirror_mode": {
    "name": "ipython",
    "version": 3
   },
   "file_extension": ".py",
   "mimetype": "text/x-python",
   "name": "python",
   "nbconvert_exporter": "python",
   "pygments_lexer": "ipython3",
   "version": "3.7.3"
  }
 },
 "nbformat": 4,
 "nbformat_minor": 2
}
