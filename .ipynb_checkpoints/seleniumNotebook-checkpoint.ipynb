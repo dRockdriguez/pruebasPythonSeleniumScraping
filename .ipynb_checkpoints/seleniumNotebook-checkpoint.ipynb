{
 "cells": [
  {
   "cell_type": "markdown",
   "metadata": {},
   "source": [
    "# Importaciones"
   ]
  },
  {
   "cell_type": "code",
   "execution_count": 365,
   "metadata": {},
   "outputs": [],
   "source": [
    "from selenium import webdriver\n",
    "from selenium.webdriver.chrome.options import Options\n",
    "from selenium.webdriver.support.ui import Select\n",
    "import time\n",
    "from zipfile import ZipFile\n",
    "import os\n",
    "import pandas as pd \n",
    "import io\n",
    "import matplotlib.pyplot as plt\n",
    "import numpy as np"
   ]
  },
  {
   "cell_type": "markdown",
   "metadata": {},
   "source": [
    "## Opciones para decir a chrome el directorio donde debe descargar los ficheros"
   ]
  },
  {
   "cell_type": "code",
   "execution_count": 356,
   "metadata": {},
   "outputs": [],
   "source": [
    "options = Options() \n",
    "\n",
    "options.add_experimental_option(\"prefs\", {\n",
    "  \"download.default_directory\": r\"C:\\descargas\",\n",
    "  \"download.prompt_for_download\": False,\n",
    "  \"download.directory_upgrade\": True,\n",
    "  \"safebrowsing.enabled\": True\n",
    "})"
   ]
  },
  {
   "cell_type": "code",
   "execution_count": 357,
   "metadata": {},
   "outputs": [],
   "source": [
    "driver = webdriver.Chrome(options=options, executable_path=r\"C:\\chromeDriver\\chromedriver.exe\")\n",
    "driver.get(\"http://eportal.mapama.gob.es/websiar/SeleccionParametrosMap.aspx?dst=1\")\n",
    "driver.maximize_window()"
   ]
  },
  {
   "cell_type": "markdown",
   "metadata": {},
   "source": [
    "## Selección de comunidad"
   ]
  },
  {
   "cell_type": "code",
   "execution_count": 358,
   "metadata": {},
   "outputs": [],
   "source": [
    "comunidad_id = str(1)\n",
    "select_com = Select(driver.find_element_by_name('ctl00$ContentPlaceHolder1$DropDownListCCAA'))\n",
    "select_com.select_by_value(comunidad_id)\n",
    "time.sleep(2)"
   ]
  },
  {
   "cell_type": "markdown",
   "metadata": {},
   "source": [
    "## Selección de provincia"
   ]
  },
  {
   "cell_type": "code",
   "execution_count": 359,
   "metadata": {},
   "outputs": [],
   "source": [
    "provincia_id = str(4)\n",
    "select_prov = Select(driver.find_element_by_name('ctl00$ContentPlaceHolder1$DropDownListProvincia'))\n",
    "select_prov.select_by_value(provincia_id)\n",
    "time.sleep(2)"
   ]
  },
  {
   "cell_type": "markdown",
   "metadata": {},
   "source": [
    "## Selección de las estaciones"
   ]
  },
  {
   "cell_type": "code",
   "execution_count": 360,
   "metadata": {},
   "outputs": [],
   "source": [
    "estacion_id = str(2)\n",
    "select_est = Select(driver.find_element_by_name('ctl00$ContentPlaceHolder1$DropDownListEstacion'))\n",
    "select_est.select_by_value(estacion_id)\n",
    "time.sleep(2)\n",
    "driver.find_element_by_id(\"ContentPlaceHolder1_ButtonAgregar\").click();\n",
    "time.sleep(2)"
   ]
  },
  {
   "cell_type": "markdown",
   "metadata": {},
   "source": [
    "## Seleccionamos fechas"
   ]
  },
  {
   "cell_type": "code",
   "execution_count": 361,
   "metadata": {},
   "outputs": [],
   "source": [
    "driver.find_element_by_id(\"txtFechaIni\").clear()\n",
    "time.sleep(4)\n",
    "driver.find_element_by_id(\"txtFechaIni\").send_keys('03/10/2019')\n",
    "time.sleep(2)\n",
    "driver.find_element_by_id(\"txtFechaFin\").clear()\n",
    "time.sleep(4)\n",
    "driver.find_element_by_id(\"txtFechaFin\").send_keys('10/10/2019')\n",
    "time.sleep(2)\n",
    "driver.find_element_by_id(\"ContentPlaceHolder1_btnConsultar\").click()\n",
    "time.sleep(5)"
   ]
  },
  {
   "cell_type": "markdown",
   "metadata": {},
   "source": [
    "## Cambio de pestaña y descarga de archivo"
   ]
  },
  {
   "cell_type": "code",
   "execution_count": 362,
   "metadata": {},
   "outputs": [],
   "source": [
    "driver.switch_to.window(driver.window_handles[1])\n",
    "driver.find_element_by_id(\"ContentPlaceHolder1_ExportarCSV\").click(); \n",
    "driver.close()\n",
    "time.sleep(5)"
   ]
  },
  {
   "cell_type": "markdown",
   "metadata": {},
   "source": [
    "## Extracción del zip"
   ]
  },
  {
   "cell_type": "code",
   "execution_count": 363,
   "metadata": {},
   "outputs": [],
   "source": [
    "zf = ZipFile('C:/descargas/InformeDatos.zip', 'r')\n",
    "zf.extractall('C:/descargas')\n",
    "zf.close()\n",
    "\n",
    "os.remove(\"C:/descargas/InformeDatos.zip\")"
   ]
  },
  {
   "cell_type": "markdown",
   "metadata": {},
   "source": [
    "## Leo el archivo con Pandas"
   ]
  },
  {
   "cell_type": "code",
   "execution_count": 388,
   "metadata": {},
   "outputs": [],
   "source": [
    "x = os.listdir(\"C:/descargas\")"
   ]
  },
  {
   "cell_type": "code",
   "execution_count": 389,
   "metadata": {},
   "outputs": [
    {
     "data": {
      "text/plain": [
       "['AL02_Almería_03_10_2019_10_10_2019.csv',\n",
       " 'AL10_Adra_03_10_2019_10_10_2019.csv',\n",
       " 'mierda.csv',\n",
       " 'prueba.csv',\n",
       " 'temp.csv',\n",
       " 'temp1.csv']"
      ]
     },
     "execution_count": 389,
     "metadata": {},
     "output_type": "execute_result"
    }
   ],
   "source": [
    "x"
   ]
  },
  {
   "cell_type": "code",
   "execution_count": 221,
   "metadata": {},
   "outputs": [],
   "source": [
    "## Función que devuelve la codificación de un fichero\n",
    "def get_encoding_type(file):\n",
    "    r_file = open(file, 'rb').read()\n",
    "    result = chardet.detect(r_file)\n",
    "    charenc = result['encoding']\n",
    "    return charenc"
   ]
  },
  {
   "cell_type": "code",
   "execution_count": 390,
   "metadata": {},
   "outputs": [
    {
     "name": "stdout",
     "output_type": "stream",
     "text": [
      "Tokenization took: 0.00 ms\n",
      "Type conversion took: 1.03 ms\n",
      "Parser memory cleanup took: 0.00 ms\n"
     ]
    }
   ],
   "source": [
    "dataTemp = pd.read_csv(\"C:/descargas/\" + x[3], header=0, delimiter=\";\", encoding = get_encoding_type(\"C:/descargas/\" + x[0]), verbose = True)"
   ]
  },
  {
   "cell_type": "code",
   "execution_count": 391,
   "metadata": {},
   "outputs": [
    {
     "data": {
      "text/html": [
       "<div>\n",
       "<style scoped>\n",
       "    .dataframe tbody tr th:only-of-type {\n",
       "        vertical-align: middle;\n",
       "    }\n",
       "\n",
       "    .dataframe tbody tr th {\n",
       "        vertical-align: top;\n",
       "    }\n",
       "\n",
       "    .dataframe thead th {\n",
       "        text-align: right;\n",
       "    }\n",
       "</style>\n",
       "<table border=\"1\" class=\"dataframe\">\n",
       "  <thead>\n",
       "    <tr style=\"text-align: right;\">\n",
       "      <th></th>\n",
       "      <th>IdProvincia</th>\n",
       "      <th>IdEstacion</th>\n",
       "      <th>Fecha</th>\n",
       "      <th>AÃ±o</th>\n",
       "      <th>Dia</th>\n",
       "      <th>Temp Media (ÂºC)</th>\n",
       "      <th>Temp Max (ÂºC)</th>\n",
       "      <th>Hora Temp Max</th>\n",
       "      <th>Temp MÃ­nima (ÂºC)</th>\n",
       "      <th>Hora Temp Min</th>\n",
       "      <th>...</th>\n",
       "      <th>Hora Hum MÃ­n</th>\n",
       "      <th>Velviento (m/s)</th>\n",
       "      <th>DirViento (Âº)</th>\n",
       "      <th>VelVientoMax (m/s)</th>\n",
       "      <th>Hora VelMax</th>\n",
       "      <th>Dir viento Vel Max (Âº)</th>\n",
       "      <th>RadiaciÃ³n (MJ/m2)</th>\n",
       "      <th>PrecipitaciÃ³n (mm)</th>\n",
       "      <th>PePMon</th>\n",
       "      <th>EtPMon</th>\n",
       "    </tr>\n",
       "  </thead>\n",
       "  <tbody>\n",
       "    <tr>\n",
       "      <th>0</th>\n",
       "      <td>4</td>\n",
       "      <td>10</td>\n",
       "      <td>03/10/2019</td>\n",
       "      <td>2019</td>\n",
       "      <td>276</td>\n",
       "      <td>21.36</td>\n",
       "      <td>27.01</td>\n",
       "      <td>10:48</td>\n",
       "      <td>17.12</td>\n",
       "      <td>22:26</td>\n",
       "      <td>...</td>\n",
       "      <td>08:44</td>\n",
       "      <td>1.42</td>\n",
       "      <td>313.80</td>\n",
       "      <td>5.47</td>\n",
       "      <td>12:04</td>\n",
       "      <td>265.00</td>\n",
       "      <td>17.44</td>\n",
       "      <td>0.0</td>\n",
       "      <td>0</td>\n",
       "      <td>3.58</td>\n",
       "    </tr>\n",
       "    <tr>\n",
       "      <th>1</th>\n",
       "      <td>4</td>\n",
       "      <td>10</td>\n",
       "      <td>04/10/2019</td>\n",
       "      <td>2019</td>\n",
       "      <td>277</td>\n",
       "      <td>19.97</td>\n",
       "      <td>25.14</td>\n",
       "      <td>14:54</td>\n",
       "      <td>14.72</td>\n",
       "      <td>03:40</td>\n",
       "      <td>...</td>\n",
       "      <td>07:36</td>\n",
       "      <td>0.52</td>\n",
       "      <td>230.70</td>\n",
       "      <td>2.86</td>\n",
       "      <td>07:10</td>\n",
       "      <td>5.50</td>\n",
       "      <td>19.29</td>\n",
       "      <td>0.0</td>\n",
       "      <td>0</td>\n",
       "      <td>2.84</td>\n",
       "    </tr>\n",
       "    <tr>\n",
       "      <th>2</th>\n",
       "      <td>4</td>\n",
       "      <td>10</td>\n",
       "      <td>05/10/2019</td>\n",
       "      <td>2019</td>\n",
       "      <td>278</td>\n",
       "      <td>19.73</td>\n",
       "      <td>25.21</td>\n",
       "      <td>13:16</td>\n",
       "      <td>14.52</td>\n",
       "      <td>05:56</td>\n",
       "      <td>...</td>\n",
       "      <td>01:18</td>\n",
       "      <td>0.51</td>\n",
       "      <td>277.30</td>\n",
       "      <td>2.49</td>\n",
       "      <td>16:26</td>\n",
       "      <td>261.70</td>\n",
       "      <td>18.50</td>\n",
       "      <td>0.0</td>\n",
       "      <td>0</td>\n",
       "      <td>2.74</td>\n",
       "    </tr>\n",
       "    <tr>\n",
       "      <th>3</th>\n",
       "      <td>4</td>\n",
       "      <td>10</td>\n",
       "      <td>06/10/2019</td>\n",
       "      <td>2019</td>\n",
       "      <td>279</td>\n",
       "      <td>19.46</td>\n",
       "      <td>24.14</td>\n",
       "      <td>14:36</td>\n",
       "      <td>15.11</td>\n",
       "      <td>05:18</td>\n",
       "      <td>...</td>\n",
       "      <td>14:50</td>\n",
       "      <td>0.51</td>\n",
       "      <td>261.50</td>\n",
       "      <td>1.99</td>\n",
       "      <td>14:10</td>\n",
       "      <td>189.20</td>\n",
       "      <td>17.37</td>\n",
       "      <td>0.1</td>\n",
       "      <td>0</td>\n",
       "      <td>2.55</td>\n",
       "    </tr>\n",
       "    <tr>\n",
       "      <th>4</th>\n",
       "      <td>4</td>\n",
       "      <td>10</td>\n",
       "      <td>07/10/2019</td>\n",
       "      <td>2019</td>\n",
       "      <td>280</td>\n",
       "      <td>20.64</td>\n",
       "      <td>25.27</td>\n",
       "      <td>13:30</td>\n",
       "      <td>15.32</td>\n",
       "      <td>06:38</td>\n",
       "      <td>...</td>\n",
       "      <td>22:14</td>\n",
       "      <td>0.53</td>\n",
       "      <td>190.80</td>\n",
       "      <td>4.19</td>\n",
       "      <td>22:10</td>\n",
       "      <td>81.30</td>\n",
       "      <td>18.14</td>\n",
       "      <td>0.0</td>\n",
       "      <td>0</td>\n",
       "      <td>2.72</td>\n",
       "    </tr>\n",
       "    <tr>\n",
       "      <th>5</th>\n",
       "      <td>4</td>\n",
       "      <td>10</td>\n",
       "      <td>08/10/2019</td>\n",
       "      <td>2019</td>\n",
       "      <td>281</td>\n",
       "      <td>21.74</td>\n",
       "      <td>25.95</td>\n",
       "      <td>09:46</td>\n",
       "      <td>18.11</td>\n",
       "      <td>23:42</td>\n",
       "      <td>...</td>\n",
       "      <td>07:44</td>\n",
       "      <td>1.09</td>\n",
       "      <td>47.64</td>\n",
       "      <td>4.36</td>\n",
       "      <td>11:44</td>\n",
       "      <td>144.70</td>\n",
       "      <td>18.00</td>\n",
       "      <td>0.0</td>\n",
       "      <td>0</td>\n",
       "      <td>3.15</td>\n",
       "    </tr>\n",
       "    <tr>\n",
       "      <th>6</th>\n",
       "      <td>4</td>\n",
       "      <td>10</td>\n",
       "      <td>09/10/2019</td>\n",
       "      <td>2019</td>\n",
       "      <td>282</td>\n",
       "      <td>21.23</td>\n",
       "      <td>26.00</td>\n",
       "      <td>11:34</td>\n",
       "      <td>17.85</td>\n",
       "      <td>06:28</td>\n",
       "      <td>...</td>\n",
       "      <td>08:52</td>\n",
       "      <td>0.79</td>\n",
       "      <td>329.50</td>\n",
       "      <td>2.92</td>\n",
       "      <td>05:47</td>\n",
       "      <td>9.38</td>\n",
       "      <td>18.01</td>\n",
       "      <td>0.0</td>\n",
       "      <td>0</td>\n",
       "      <td>2.91</td>\n",
       "    </tr>\n",
       "  </tbody>\n",
       "</table>\n",
       "<p>7 rows × 24 columns</p>\n",
       "</div>"
      ],
      "text/plain": [
       "   IdProvincia  IdEstacion       Fecha  AÃ±o  Dia  Temp Media (ÂºC)  \\\n",
       "0            4          10  03/10/2019  2019  276             21.36   \n",
       "1            4          10  04/10/2019  2019  277             19.97   \n",
       "2            4          10  05/10/2019  2019  278             19.73   \n",
       "3            4          10  06/10/2019  2019  279             19.46   \n",
       "4            4          10  07/10/2019  2019  280             20.64   \n",
       "5            4          10  08/10/2019  2019  281             21.74   \n",
       "6            4          10  09/10/2019  2019  282             21.23   \n",
       "\n",
       "   Temp Max (ÂºC) Hora Temp Max  Temp MÃ­nima (ÂºC) Hora Temp Min  ...  \\\n",
       "0           27.01         10:48               17.12         22:26  ...   \n",
       "1           25.14         14:54               14.72         03:40  ...   \n",
       "2           25.21         13:16               14.52         05:56  ...   \n",
       "3           24.14         14:36               15.11         05:18  ...   \n",
       "4           25.27         13:30               15.32         06:38  ...   \n",
       "5           25.95         09:46               18.11         23:42  ...   \n",
       "6           26.00         11:34               17.85         06:28  ...   \n",
       "\n",
       "   Hora Hum MÃ­n  Velviento (m/s) DirViento (Âº)  VelVientoMax (m/s)  \\\n",
       "0          08:44             1.42         313.80                5.47   \n",
       "1          07:36             0.52         230.70                2.86   \n",
       "2          01:18             0.51         277.30                2.49   \n",
       "3          14:50             0.51         261.50                1.99   \n",
       "4          22:14             0.53         190.80                4.19   \n",
       "5          07:44             1.09          47.64                4.36   \n",
       "6          08:52             0.79         329.50                2.92   \n",
       "\n",
       "  Hora VelMax  Dir viento Vel Max (Âº)  RadiaciÃ³n (MJ/m2)  \\\n",
       "0       12:04                   265.00               17.44   \n",
       "1       07:10                     5.50               19.29   \n",
       "2       16:26                   261.70               18.50   \n",
       "3       14:10                   189.20               17.37   \n",
       "4       22:10                    81.30               18.14   \n",
       "5       11:44                   144.70               18.00   \n",
       "6       05:47                     9.38               18.01   \n",
       "\n",
       "   PrecipitaciÃ³n (mm) PePMon  EtPMon  \n",
       "0                  0.0      0    3.58  \n",
       "1                  0.0      0    2.84  \n",
       "2                  0.0      0    2.74  \n",
       "3                  0.1      0    2.55  \n",
       "4                  0.0      0    2.72  \n",
       "5                  0.0      0    3.15  \n",
       "6                  0.0      0    2.91  \n",
       "\n",
       "[7 rows x 24 columns]"
      ]
     },
     "execution_count": 391,
     "metadata": {},
     "output_type": "execute_result"
    }
   ],
   "source": [
    "dataTemp"
   ]
  },
  {
   "cell_type": "code",
   "execution_count": 392,
   "metadata": {},
   "outputs": [
    {
     "data": {
      "text/plain": [
       "'ISO-8859-1'"
      ]
     },
     "execution_count": 392,
     "metadata": {},
     "output_type": "execute_result"
    }
   ],
   "source": [
    "get_encoding_type(\"C:/descargas/\" + x[1])"
   ]
  },
  {
   "cell_type": "code",
   "execution_count": 393,
   "metadata": {},
   "outputs": [
    {
     "name": "stderr",
     "output_type": "stream",
     "text": [
      "C:\\Users\\Onetec\\Anaconda3\\lib\\site-packages\\ipykernel_launcher.py:1: UserWarning: In Matplotlib 3.3 individual lines on a stem plot will be added as a LineCollection instead of individual lines. This significantly improves the performance of a stem plot. To remove this warning and switch to the new behaviour, set the \"use_line_collection\" keyword argument to True.\n",
      "  \"\"\"Entry point for launching an IPython kernel.\n"
     ]
    },
    {
     "data": {
      "text/plain": [
       "<StemContainer object of 3 artists>"
      ]
     },
     "execution_count": 393,
     "metadata": {},
     "output_type": "execute_result"
    },
    {
     "data": {
      "image/png": "[encoded data removed]",
      "text/plain": [
       "<Figure size 432x288 with 1 Axes>"
      ]
     },
     "metadata": {
      "needs_background": "light"
     },
     "output_type": "display_data"
    }
   ],
   "source": [
    "\n",
    "plt.stem(dataTemp[\"Fecha\"], dataTemp.iloc[:,6])"
   ]
  },
  {
   "cell_type": "code",
   "execution_count": null,
   "metadata": {},
   "outputs": [],
   "source": []
  }
 ],
 "metadata": {
  "kernelspec": {
   "display_name": "Python 3",
   "language": "python",
   "name": "python3"
  },
  "language_info": {
   "codemirror_mode": {
    "name": "ipython",
    "version": 3
   },
   "file_extension": ".py",
   "mimetype": "text/x-python",
   "name": "python",
   "nbconvert_exporter": "python",
   "pygments_lexer": "ipython3",
   "version": "3.7.3"
  }
 },
 "nbformat": 4,
 "nbformat_minor": 2
}
