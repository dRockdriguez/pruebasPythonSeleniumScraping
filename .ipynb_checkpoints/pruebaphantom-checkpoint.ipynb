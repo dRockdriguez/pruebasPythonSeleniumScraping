{
 "cells": [
  {
   "cell_type": "code",
   "execution_count": 27,
   "metadata": {},
   "outputs": [],
   "source": [
    "from selenium import webdriver\n",
    "from selenium.webdriver.chrome.options import Options\n",
    "import time\n",
    "from selenium.webdriver.common.by import By\n",
    "from selenium.webdriver.support.ui import WebDriverWait\n",
    "from selenium.webdriver.support import expected_conditions as EC"
   ]
  },
  {
   "cell_type": "code",
   "execution_count": 28,
   "metadata": {},
   "outputs": [],
   "source": [
    "options = Options() \n",
    "\n",
    "options.add_experimental_option(\"prefs\", {})\n",
    "options.add_argument(\"--headless\") ## Abrirlo en modo fantasma\n",
    "driver = webdriver.Chrome(options=options, executable_path=r\"C:\\chromeDriver\\chromedriver.exe\")"
   ]
  },
  {
   "cell_type": "code",
   "execution_count": 24,
   "metadata": {},
   "outputs": [],
   "source": [
    "# driver.get(\"http://eportal.mapama.gob.es/websiar/SeleccionParametrosMap.aspx?dst=1\")"
   ]
  },
  {
   "cell_type": "code",
   "execution_count": 25,
   "metadata": {},
   "outputs": [],
   "source": [
    "## Hademos una captura de pantalla\n",
    "# driver.get_screenshot_as_file(\"image.png\")\n",
    "# driver.close()"
   ]
  },
  {
   "cell_type": "code",
   "execution_count": 26,
   "metadata": {},
   "outputs": [],
   "source": [
    "## Llamada ajax, esperano con time\n",
    "driver.get(\"https://resttesttest.com/\")\n",
    "driver.find_element_by_id(\"submitajax\").click()\n",
    "time.sleep(2) \n",
    "driver.get_screenshot_as_file(\"image1.png\")\n",
    "#driver.close()"
   ]
  },
  {
   "cell_type": "code",
   "execution_count": 30,
   "metadata": {},
   "outputs": [],
   "source": [
    "driver.get(\"https://resttesttest.com/\")\n",
    "driver.find_element_by_id(\"submitajax\").click()\n",
    "try:\n",
    "    ## esperamos hasta que el texto en el div statuspre sea un 200 OK\n",
    "    element = WebDriverWait(driver, 10).until(EC.text_to_be_present_in_element((By.ID, \"statuspre\"),\"HTTP 200 OK\"))\n",
    "finally:\n",
    "    driver.get_screenshot_as_file(\"image2.png\")\n",
    "driver.close()"
   ]
  },
  {
   "cell_type": "code",
   "execution_count": null,
   "metadata": {},
   "outputs": [],
   "source": []
  }
 ],
 "metadata": {
  "kernelspec": {
   "display_name": "Python 3",
   "language": "python",
   "name": "python3"
  },
  "language_info": {
   "codemirror_mode": {
    "name": "ipython",
    "version": 3
   },
   "file_extension": ".py",
   "mimetype": "text/x-python",
   "name": "python",
   "nbconvert_exporter": "python",
   "pygments_lexer": "ipython3",
   "version": "3.7.3"
  }
 },
 "nbformat": 4,
 "nbformat_minor": 2
}
