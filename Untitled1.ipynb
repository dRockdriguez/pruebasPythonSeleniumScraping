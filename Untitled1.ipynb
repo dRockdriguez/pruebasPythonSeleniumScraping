{
 "cells": [
  {
   "cell_type": "code",
   "execution_count": 77,
   "metadata": {},
   "outputs": [],
   "source": [
    "from selenium import webdriver\n",
    "from selenium.webdriver.chrome.options import Options\n",
    "import time\n",
    "from selenium.webdriver.common.by import By\n",
    "from selenium.webdriver.support.ui import WebDriverWait\n",
    "from selenium.webdriver.support import expected_conditions as EC\n",
    "from bs4 import BeautifulSoup\n",
    "from urllib.request import urlopen\n",
    "from urllib.error import HTTPError\n",
    "from urllib.error import URLError"
   ]
  },
  {
   "cell_type": "code",
   "execution_count": null,
   "metadata": {},
   "outputs": [],
   "source": [
    "options = Options() \n",
    "\n",
    "options.add_experimental_option(\"prefs\", {})\n",
    "# options.add_argument(\"--headless\") ## Abrirlo en modo fantasma\n",
    "driver = webdriver.Chrome(options=options, executable_path=r\"C:\\chromeDriver\\chromedriver.exe\")"
   ]
  },
  {
   "cell_type": "code",
   "execution_count": null,
   "metadata": {},
   "outputs": [],
   "source": [
    "driver.get(\"https://www.carrefour.es\")\n",
    "driver.find_element_by_id(\"atg_store_searchInput\").send_keys(\"chanclas\");\n",
    "driver.find_element_by_id(\"searchForm\").submit();\n",
    "\n",
    "try:\n",
    "    element = WebDriverWait(driver, 10).until(EC.url_changes(\"https://www.carrefour.es/global/?Dy=1&Nty=1&Ntx=mode+matchallany&Ntt=chanclas&search=Buscar\"))\n",
    "finally:\n",
    "    page = BeautifulSoup(driver.page_source,\"html5lib\")   \n",
    "    counter = 1\n",
    "    p = driver.find_element_by_class_name(\"pagination\")\n",
    "    lis = p.find_elements_by_tag_name(\"li\")\n",
    "    for page in lis:\n",
    "        a = page.find_element_by_tag_name(\"a\")\n",
    "        try:            \n",
    "            pageN = int(a.text)\n",
    "        except ValueError:\n",
    "            print(\"-----------No es numero-----------\")\n",
    "        else:\n",
    "            if counter == pageN:\n",
    "                print(a.text)\n",
    "                if counter != 1:\n",
    "                    print(\"hago click\")\n",
    "                    driver.execute_script(\"arguments[0].click();\", a)\n",
    "                    time.sleep(30)\n",
    "                    #a.click()\n",
    "                counter = counter + 1\n",
    "                "
   ]
  },
  {
   "cell_type": "code",
   "execution_count": null,
   "metadata": {},
   "outputs": [],
   "source": []
  },
  {
   "cell_type": "code",
   "execution_count": null,
   "metadata": {},
   "outputs": [],
   "source": []
  }
 ],
 "metadata": {
  "kernelspec": {
   "display_name": "Python 3",
   "language": "python",
   "name": "python3"
  },
  "language_info": {
   "codemirror_mode": {
    "name": "ipython",
    "version": 3
   },
   "file_extension": ".py",
   "mimetype": "text/x-python",
   "name": "python",
   "nbconvert_exporter": "python",
   "pygments_lexer": "ipython3",
   "version": "3.7.3"
  }
 },
 "nbformat": 4,
 "nbformat_minor": 2
}
